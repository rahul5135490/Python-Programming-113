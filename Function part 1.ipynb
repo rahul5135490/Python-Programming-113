{
 "cells": [
  {
   "cell_type": "code",
   "execution_count": 1,
   "id": "f5f6a314",
   "metadata": {},
   "outputs": [
    {
     "name": "stdout",
     "output_type": "stream",
     "text": [
      "The number is even\n"
     ]
    }
   ],
   "source": [
    "num=24\n",
    "if num%2==0:\n",
    "    print(\"The number is even\")\n",
    "else:\n",
    "    print(\"The num is odd\")"
   ]
  },
  {
   "cell_type": "code",
   "execution_count": 2,
   "id": "92862778",
   "metadata": {},
   "outputs": [
    {
     "name": "stdout",
     "output_type": "stream",
     "text": [
      "The number is odd\n"
     ]
    }
   ],
   "source": [
    "num=25\n",
    "if num%2==1:\n",
    "    print(\"The number is odd\")\n",
    "else:\n",
    "    print(\"The number is even\")\n"
   ]
  },
  {
   "cell_type": "code",
   "execution_count": 3,
   "id": "a94ade72",
   "metadata": {},
   "outputs": [
    {
     "name": "stdout",
     "output_type": "stream",
     "text": [
      "The number is even\n"
     ]
    }
   ],
   "source": [
    "num=36\n",
    "if num%2==0:\n",
    "    print(\"The number is even\")\n",
    "else:\n",
    "    print(\"The number is odd\")"
   ]
  },
  {
   "cell_type": "code",
   "execution_count": 4,
   "id": "0769e0ee",
   "metadata": {},
   "outputs": [
    {
     "name": "stdout",
     "output_type": "stream",
     "text": [
      "The number is divisible by 5\n"
     ]
    }
   ],
   "source": [
    "num=75\n",
    "if num%5==0:\n",
    "    print(\"The number is divisible by 5\")\n",
    "else:\n",
    "    print(\"The number is not divisible by 5\")"
   ]
  },
  {
   "cell_type": "code",
   "execution_count": 5,
   "id": "73f76d53",
   "metadata": {},
   "outputs": [
    {
     "name": "stdout",
     "output_type": "stream",
     "text": [
      "The number is not divisible by 5\n"
     ]
    }
   ],
   "source": [
    "num=74\n",
    "if num%5==0:\n",
    "    print(\"The number is divisible by 5\")\n",
    "else:\n",
    "    print(\"The number is not divisible by 5\")"
   ]
  },
  {
   "cell_type": "code",
   "execution_count": 6,
   "id": "5b0c6ce5",
   "metadata": {},
   "outputs": [
    {
     "name": "stdout",
     "output_type": "stream",
     "text": [
      "The number is divisible by 3\n"
     ]
    }
   ],
   "source": [
    "num=75\n",
    "if num%5==0:\n",
    "    print(\"The number is divisible by 3\")\n",
    "else:\n",
    "    print(\"The number is not divisible by 3\")"
   ]
  },
  {
   "cell_type": "code",
   "execution_count": 7,
   "id": "171fe87d",
   "metadata": {},
   "outputs": [],
   "source": [
    "def even_odd(num):\n",
    "    if num%2==0:\n",
    "        print(\"The number is even\")\n",
    "    else:\n",
    "        print(\"The number is odd\")"
   ]
  },
  {
   "cell_type": "code",
   "execution_count": 8,
   "id": "33340e56",
   "metadata": {},
   "outputs": [
    {
     "name": "stdout",
     "output_type": "stream",
     "text": [
      "The number is odd\n"
     ]
    }
   ],
   "source": [
    "even_odd(25)"
   ]
  },
  {
   "cell_type": "code",
   "execution_count": 9,
   "id": "c3901b91",
   "metadata": {},
   "outputs": [
    {
     "name": "stdout",
     "output_type": "stream",
     "text": [
      "The number is even\n"
     ]
    }
   ],
   "source": [
    "even_odd(24)"
   ]
  },
  {
   "cell_type": "code",
   "execution_count": 10,
   "id": "0a6a0cc6",
   "metadata": {},
   "outputs": [],
   "source": [
    "def hello_world():\n",
    "    print(\"Hello Welcome\")"
   ]
  },
  {
   "cell_type": "code",
   "execution_count": 11,
   "id": "1d95b6b6",
   "metadata": {},
   "outputs": [
    {
     "name": "stdout",
     "output_type": "stream",
     "text": [
      "Hello Welcome\n"
     ]
    }
   ],
   "source": [
    "hello_world()"
   ]
  },
  {
   "cell_type": "code",
   "execution_count": 12,
   "id": "49e7151d",
   "metadata": {},
   "outputs": [],
   "source": [
    "def hello_world():\n",
    "    return \"Hello Welcome\"\n"
   ]
  },
  {
   "cell_type": "code",
   "execution_count": 13,
   "id": "ce093262",
   "metadata": {},
   "outputs": [],
   "source": [
    "val=hello_world()"
   ]
  },
  {
   "cell_type": "code",
   "execution_count": 14,
   "id": "b7f5b5bd",
   "metadata": {},
   "outputs": [
    {
     "name": "stdout",
     "output_type": "stream",
     "text": [
      "Hello Welcome\n"
     ]
    }
   ],
   "source": [
    "print(val)"
   ]
  },
  {
   "cell_type": "code",
   "execution_count": 15,
   "id": "2b6795d1",
   "metadata": {},
   "outputs": [],
   "source": [
    "def add_number(num1,num2):\n",
    "    return num1+num2"
   ]
  },
  {
   "cell_type": "code",
   "execution_count": 16,
   "id": "dc33d129",
   "metadata": {},
   "outputs": [],
   "source": [
    "val=add_number(28,30)"
   ]
  },
  {
   "cell_type": "code",
   "execution_count": 17,
   "id": "401269ce",
   "metadata": {},
   "outputs": [
    {
     "data": {
      "text/plain": [
       "58"
      ]
     },
     "execution_count": 17,
     "metadata": {},
     "output_type": "execute_result"
    }
   ],
   "source": [
    "val"
   ]
  },
  {
   "cell_type": "code",
   "execution_count": 18,
   "id": "34d6d08d",
   "metadata": {},
   "outputs": [],
   "source": [
    "def hello (name,age=29):\n",
    "    print(\"My name is {} and age is {}\".format(name,age))\n"
   ]
  },
  {
   "cell_type": "code",
   "execution_count": 19,
   "id": "b3968db5",
   "metadata": {},
   "outputs": [
    {
     "name": "stdout",
     "output_type": "stream",
     "text": [
      "My name is Kalua and age is 29\n"
     ]
    }
   ],
   "source": [
    "hello(\"Kalua\")"
   ]
  },
  {
   "cell_type": "code",
   "execution_count": 20,
   "id": "0dcd2f15",
   "metadata": {},
   "outputs": [
    {
     "name": "stdout",
     "output_type": "stream",
     "text": [
      "My name is Malua and age is 29\n"
     ]
    }
   ],
   "source": [
    "hello(\"Malua\")"
   ]
  },
  {
   "cell_type": "code",
   "execution_count": 21,
   "id": "1d6112f9",
   "metadata": {},
   "outputs": [],
   "source": [
    "def hello (name,age=29):\n",
    "    print(\"My name is {} and age is {}\".format(name,age))\n"
   ]
  },
  {
   "cell_type": "code",
   "execution_count": 22,
   "id": "823381c4",
   "metadata": {},
   "outputs": [],
   "source": [
    "def hello(*args,**kwargs):\n",
    "    print(args)\n",
    "    print(kwargs)"
   ]
  },
  {
   "cell_type": "code",
   "execution_count": 23,
   "id": "71f3e615",
   "metadata": {},
   "outputs": [
    {
     "name": "stdout",
     "output_type": "stream",
     "text": [
      "('Ramu', 'Nagarjun')\n",
      "{'age': 29, 'dob': 1990}\n"
     ]
    }
   ],
   "source": [
    "hello(\"Ramu\",\"Nagarjun\",age=29,dob=1990)"
   ]
  },
  {
   "cell_type": "code",
   "execution_count": 24,
   "id": "25278851",
   "metadata": {},
   "outputs": [],
   "source": [
    "lst=[\"Ramu\",\"Nagarjun\"]\n",
    "dict_args={\"age\":29,\"DOB\":1990}"
   ]
  },
  {
   "cell_type": "code",
   "execution_count": 25,
   "id": "f5c4a21e",
   "metadata": {},
   "outputs": [
    {
     "name": "stdout",
     "output_type": "stream",
     "text": [
      "('Ramu', 'Nagarjun')\n",
      "{'age': 29, 'DOB': 1990}\n"
     ]
    }
   ],
   "source": [
    "hello(*lst,**dict_args)"
   ]
  },
  {
   "cell_type": "code",
   "execution_count": 26,
   "id": "9d8102df",
   "metadata": {},
   "outputs": [],
   "source": [
    "lst=[1,2,3,4,5,6,7]"
   ]
  },
  {
   "cell_type": "code",
   "execution_count": 27,
   "id": "2c07d8d9",
   "metadata": {},
   "outputs": [],
   "source": [
    "def evenoddsum(lst):\n",
    "    even_sum=0\n",
    "    odd_sum=0\n",
    "    for i in lst:\n",
    "        if i%2==0:\n",
    "            even_sum=even_sum+i\n",
    "        else:\n",
    "            odd_sum=odd_sum+i\n",
    "        return even_sum,odd_sum"
   ]
  },
  {
   "cell_type": "code",
   "execution_count": 28,
   "id": "cd95b50b",
   "metadata": {},
   "outputs": [
    {
     "data": {
      "text/plain": [
       "(0, 1)"
      ]
     },
     "execution_count": 28,
     "metadata": {},
     "output_type": "execute_result"
    }
   ],
   "source": [
    "evenoddsum(lst)"
   ]
  },
  {
   "cell_type": "code",
   "execution_count": null,
   "id": "387db152",
   "metadata": {},
   "outputs": [],
   "source": []
  }
 ],
 "metadata": {
  "kernelspec": {
   "display_name": "Python 3 (ipykernel)",
   "language": "python",
   "name": "python3"
  },
  "language_info": {
   "codemirror_mode": {
    "name": "ipython",
    "version": 3
   },
   "file_extension": ".py",
   "mimetype": "text/x-python",
   "name": "python",
   "nbconvert_exporter": "python",
   "pygments_lexer": "ipython3",
   "version": "3.9.13"
  }
 },
 "nbformat": 4,
 "nbformat_minor": 5
}
